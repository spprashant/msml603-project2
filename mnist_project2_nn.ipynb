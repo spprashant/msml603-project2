{
 "cells": [
  {
   "cell_type": "code",
   "execution_count": 66,
   "metadata": {},
   "outputs": [
    {
     "data": {
      "text/plain": [
       "<torch._C.Generator at 0x1844c7bf4d0>"
      ]
     },
     "execution_count": 66,
     "metadata": {},
     "output_type": "execute_result"
    }
   ],
   "source": [
    "import numpy as np \n",
    "import pandas as pd\n",
    "from scipy.io import loadmat\n",
    "import matplotlib.pyplot as plt\n",
    "import matplotlib.image as mpimg\n",
    "import torch\n",
    "from torchvision import datasets, transforms\n",
    "from keras.datasets import mnist\n",
    "\n",
    "RANDOM_SEED = 42\n",
    "torch.backends.cudnn.enabled = False\n",
    "torch.manual_seed(RANDOM_SEED)"
   ]
  },
  {
   "cell_type": "code",
   "execution_count": 67,
   "metadata": {},
   "outputs": [],
   "source": [
    "(train_X, train_y), (test_X, test_y) = mnist.load_data()\n",
    "\n",
    "train_array = np.empty([60000,1,28,28], dtype=int)\n",
    "\n",
    "for idx,data in enumerate(train_X):\n",
    "    train_array[idx,0] = data\n",
    "\n",
    "test_array = np.empty([10000,1,28,28], dtype=int)\n",
    "\n",
    "for idx,data in enumerate(test_X):\n",
    "    test_array[idx,0] = data\n",
    "\n",
    "train_tensor_X = torch.from_numpy(train_array)\n",
    "test_tensor_X = torch.from_numpy(test_array)\n",
    "\n",
    "train_tensor_Y = torch.from_numpy(train_y)\n",
    "test_tensor_Y = torch.from_numpy(test_y)\n",
    "\n",
    "trainset = torch.utils.data.TensorDataset(train_tensor_X, train_tensor_Y)\n",
    "testset = torch.utils.data.TensorDataset(test_tensor_X, test_tensor_Y)"
   ]
  },
  {
   "cell_type": "code",
   "execution_count": 68,
   "metadata": {},
   "outputs": [
    {
     "name": "stdout",
     "output_type": "stream",
     "text": [
      "Net(\n",
      "  (conv1): Conv2d(1, 10, kernel_size=(5, 5), stride=(1, 1))\n",
      "  (conv2): Conv2d(10, 20, kernel_size=(5, 5), stride=(1, 1))\n",
      "  (conv2_drop): Dropout2d(p=0.5, inplace=False)\n",
      "  (fc1): Linear(in_features=320, out_features=50, bias=True)\n",
      "  (fc2): Linear(in_features=50, out_features=10, bias=True)\n",
      ")\n"
     ]
    }
   ],
   "source": [
    "import torch\n",
    "import torch.nn as nn\n",
    "import torch.nn.functional as F\n",
    "import torch.optim as optim\n",
    "\n",
    "class Net(nn.Module):\n",
    "\n",
    "    def __init__(self):\n",
    "        super(Net, self).__init__()\n",
    "        self.conv1 = nn.Conv2d(1, 10, kernel_size=5)\n",
    "        self.conv2 = nn.Conv2d(10, 20, kernel_size=5)\n",
    "        self.conv2_drop = nn.Dropout2d()\n",
    "        self.fc1 = nn.Linear(320, 50)\n",
    "        self.fc2 = nn.Linear(50, 10)\n",
    "\n",
    "    def forward(self, x):\n",
    "        x = F.relu(F.max_pool2d(self.conv1(x), 2))\n",
    "        x = F.relu(F.max_pool2d(self.conv2_drop(self.conv2(x)), 2))\n",
    "        x = x.view(-1, 320)\n",
    "        x = F.relu(self.fc1(x))\n",
    "        x = F.dropout(x, training=self.training)\n",
    "        x = self.fc2(x)\n",
    "        return F.log_softmax(x)\n",
    "    \n",
    "net = Net()\n",
    "print(net)"
   ]
  },
  {
   "cell_type": "code",
   "execution_count": 69,
   "metadata": {},
   "outputs": [
    {
     "name": "stderr",
     "output_type": "stream",
     "text": [
      "c:\\users\\prashant\\appdata\\local\\programs\\python\\python37\\lib\\site-packages\\ipykernel_launcher.py:23: UserWarning: Implicit dimension choice for log_softmax has been deprecated. Change the call to include dim=X as an argument.\n"
     ]
    },
    {
     "name": "stdout",
     "output_type": "stream",
     "text": [
      "Train Epoch: 0 [0/60000 (0%)]\tLoss: 35.834641\n",
      "Train Epoch: 0 [6400/60000 (0%)]\tLoss: 1.998448\n",
      "Train Epoch: 0 [12800/60000 (0%)]\tLoss: 1.452994\n",
      "Train Epoch: 0 [19200/60000 (0%)]\tLoss: 1.562438\n",
      "Train Epoch: 0 [25600/60000 (0%)]\tLoss: 1.346361\n",
      "Train Epoch: 0 [32000/60000 (0%)]\tLoss: 1.017131\n",
      "Train Epoch: 0 [38400/60000 (0%)]\tLoss: 1.140724\n",
      "Train Epoch: 0 [44800/60000 (0%)]\tLoss: 0.651004\n",
      "Train Epoch: 0 [51200/60000 (0%)]\tLoss: 0.935216\n",
      "Train Epoch: 0 [57600/60000 (0%)]\tLoss: 0.695040\n"
     ]
    },
    {
     "data": {
      "text/plain": [
       "[<matplotlib.lines.Line2D at 0x1846544a348>]"
      ]
     },
     "execution_count": 69,
     "metadata": {},
     "output_type": "execute_result"
    },
    {
     "data": {
      "image/png": "[encoded data removed]",
      "text/plain": [
       "<Figure size 432x288 with 1 Axes>"
      ]
     },
     "metadata": {
      "needs_background": "light"
     },
     "output_type": "display_data"
    }
   ],
   "source": [
    "LEARNING_RATE = 0.01\n",
    "MOMENTUM = 0.5\n",
    "LOG_INTERVAL = 100\n",
    "EPOCHS=1\n",
    "BATCH_SIZE=64\n",
    "\n",
    "mnist_net = Net()\n",
    "\n",
    "optimizer = optim.SGD(mnist_net.parameters(), lr=LEARNING_RATE,\n",
    "                      momentum=MOMENTUM)\n",
    "\n",
    "trainloader = torch.utils.data.DataLoader(trainset, batch_size=BATCH_SIZE, shuffle=True)\n",
    "testloader = torch.utils.data.DataLoader(testset, batch_size=1, shuffle=False)\n",
    "\n",
    "train_losses = []\n",
    "train_counter = []\n",
    "\n",
    "def train(epoch):\n",
    "    mnist_net.train()\n",
    "    for idx, (data, target) in enumerate(trainloader):\n",
    "        optimizer.zero_grad() #TODO\n",
    "        output = mnist_net(data.float())\n",
    "        loss = F.nll_loss(output, target.long())\n",
    "        loss.backward()\n",
    "        optimizer.step()\n",
    "        if idx % LOG_INTERVAL == 0:\n",
    "            print('Train Epoch: {} [{}/{} ({:.0f}%)]\\tLoss: {:.6f}'.format(epoch, idx * len(data), len(trainloader.dataset), 00. * idx / len(trainloader), loss.item()))\n",
    "            train_losses.append(loss.item())\n",
    "            train_counter.append((idx*BATCH_SIZE) + ((epoch-1)*len(trainloader.dataset)))\n",
    "\n",
    "for i in range(0,EPOCHS):\n",
    "    train(i)\n",
    "    \n",
    "plt.plot(train_losses)"
   ]
  },
  {
   "cell_type": "code",
   "execution_count": 70,
   "metadata": {},
   "outputs": [
    {
     "name": "stderr",
     "output_type": "stream",
     "text": [
      "c:\\users\\prashant\\appdata\\local\\programs\\python\\python37\\lib\\site-packages\\ipykernel_launcher.py:23: UserWarning: Implicit dimension choice for log_softmax has been deprecated. Change the call to include dim=X as an argument.\n"
     ]
    },
    {
     "name": "stdout",
     "output_type": "stream",
     "text": [
      "\n",
      "Test set: Avg. loss: 0.4027, Accuracy: 8735/10000 (87%)\n",
      "\n"
     ]
    }
   ],
   "source": [
    "test_losses = []\n",
    "\n",
    "def test():\n",
    "    mnist_net.eval()\n",
    "    test_loss = 0\n",
    "    correct = 0\n",
    "    with torch.no_grad():\n",
    "        for idx, (data, target) in enumerate(testloader):\n",
    "            output = mnist_net(data.float())\n",
    "            test_loss += F.nll_loss(output, target.long(), size_average=False).item()\n",
    "            pred = output.data.max(1, keepdim=True)[1]\n",
    "            correct += pred.eq(target.data.view_as(pred)).sum()\n",
    "    test_loss /= len(testloader.dataset)\n",
    "    test_losses.append(test_loss)\n",
    "    print('\\nTest set: Avg. loss: {:.4f}, Accuracy: {}/{} ({:.0f}%)\\n'.format(\n",
    "        test_loss, correct, len(testloader.dataset),\n",
    "        100. * correct / len(testloader.dataset)))   \n",
    "\n",
    "test()"
   ]
  }
 ],
 "metadata": {
  "kernelspec": {
   "display_name": "Python 3",
   "language": "python",
   "name": "python3"
  },
  "language_info": {
   "codemirror_mode": {
    "name": "ipython",
    "version": 3
   },
   "file_extension": ".py",
   "mimetype": "text/x-python",
   "name": "python",
   "nbconvert_exporter": "python",
   "pygments_lexer": "ipython3",
   "version": "3.7.7"
  }
 },
 "nbformat": 4,
 "nbformat_minor": 4
}
