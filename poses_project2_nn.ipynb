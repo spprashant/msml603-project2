{
 "cells": [
  {
   "cell_type": "code",
   "execution_count": 335,
   "metadata": {},
   "outputs": [],
   "source": [
    "import numpy as np \n",
    "import pandas as pd\n",
    "from scipy.io import loadmat\n",
    "import matplotlib.pyplot as plt\n",
    "import matplotlib.image as mpimg\n",
    "import torch\n",
    "from torchvision import datasets, transforms\n",
    "\n",
    "\n",
    "random_seed = 42\n",
    "torch.backends.cudnn.enabled = False\n",
    "#torch.manual_seed(random_seed)"
   ]
  },
  {
   "cell_type": "code",
   "execution_count": 336,
   "metadata": {},
   "outputs": [],
   "source": [
    "pose_data = loadmat('pose.mat')\n",
    "\n",
    "pose_data['pose'].shape\n",
    "\n",
    "poses = np.zeros((884,1,48, 40))\n",
    "for i in range(0,884):\n",
    "    poses[i,0] = pose_data['pose'][:,:,i%13,i//13]\n",
    "\n",
    "train_poses = np.zeros((680,1,48, 40))\n",
    "test_poses = np.zeros((204,1,48, 40))\n",
    "\n",
    "train_poses_Y = np.zeros((680))\n",
    "test_poses_Y = np.zeros((204))\n",
    "\n",
    "TRAIN=10\n",
    "TEST=13-TRAIN\n",
    "\n",
    "for i in range(0,68):\n",
    "    train_poses[TRAIN*i:TRAIN*i+TRAIN] = poses[13*i:13*i+TRAIN]\n",
    "    test_poses[TEST*i:TEST*i+TEST] =  poses[13*i+TRAIN:13*i+13]\n",
    "    train_poses_Y[TRAIN*i:TRAIN*i+TRAIN] = i\n",
    "    test_poses_Y[TEST*i:TEST*i+TEST] = i\n",
    "    \n",
    "train_tensor_X = torch.from_numpy(train_poses)\n",
    "test_tensor_X = torch.from_numpy(test_poses)\n",
    "\n",
    "train_tensor_Y = torch.from_numpy(train_poses_Y)\n",
    "test_tensor_Y = torch.from_numpy(test_poses_Y)\n",
    "\n",
    "trainset = torch.utils.data.TensorDataset(train_tensor_X, train_tensor_Y)\n",
    "testset = torch.utils.data.TensorDataset(test_tensor_X, test_tensor_Y)"
   ]
  },
  {
   "cell_type": "code",
   "execution_count": 443,
   "metadata": {},
   "outputs": [
    {
     "name": "stdout",
     "output_type": "stream",
     "text": [
      "Net(\n",
      "  (conv1): Conv2d(1, 20, kernel_size=(3, 3), stride=(1, 1), padding=(1, 1))\n",
      "  (conv2): Conv2d(20, 20, kernel_size=(3, 3), stride=(1, 1), padding=(1, 1))\n",
      "  (conv3): Conv2d(20, 32, kernel_size=(3, 3), stride=(1, 1), padding=(1, 1))\n",
      "  (fc1): Linear(in_features=3840, out_features=600, bias=True)\n",
      "  (fc2): Linear(in_features=600, out_features=68, bias=True)\n",
      ")\n"
     ]
    }
   ],
   "source": [
    "import torch\n",
    "import torch.nn as nn\n",
    "import torch.nn.functional as F\n",
    "import torch.optim as optim\n",
    "\n",
    "class Net(nn.Module):\n",
    "\n",
    "    def __init__(self):\n",
    "        super(Net, self).__init__()\n",
    "        self.conv1 = nn.Conv2d(1, 20, kernel_size=3, stride=1, padding=1)\n",
    "        self.conv2 = nn.Conv2d(20, 20, kernel_size=3,  stride=1, padding=1)\n",
    "        self.conv3 = nn.Conv2d(20, 32, kernel_size=3,  stride=1, padding=1)\n",
    "        self.fc1 = nn.Linear(3840, 600)\n",
    "        self.fc2 = nn.Linear(600, 68)\n",
    "\n",
    "    def forward(self, x):\n",
    "        x = F.relu(self.conv1(x))\n",
    "        x = F.max_pool2d(x, kernel_size=2)\n",
    "        x = F.relu(self.conv2(x))\n",
    "        x = F.max_pool2d(x, kernel_size=2)\n",
    "        x = F.relu(self.conv3(x))\n",
    "        x = x.view(-1, 3840)\n",
    "        x = F.relu(self.fc1(x))\n",
    "        x = F.dropout(x, training=self.training)\n",
    "        x = F.relu(self.fc2(x))\n",
    "        return x\n",
    "    \n",
    "net = Net()\n",
    "print(net)"
   ]
  },
  {
   "cell_type": "code",
   "execution_count": 462,
   "metadata": {},
   "outputs": [
    {
     "name": "stdout",
     "output_type": "stream",
     "text": [
      "Train Epoch: 0 [0/680 (0%)]\tLoss: 9.440721\n",
      "Train Epoch: 1 [0/680 (0%)]\tLoss: 4.499890\n",
      "Train Epoch: 2 [0/680 (0%)]\tLoss: 4.392668\n",
      "Train Epoch: 3 [0/680 (0%)]\tLoss: 4.269879\n",
      "Train Epoch: 4 [0/680 (0%)]\tLoss: 4.227011\n",
      "Train Epoch: 5 [0/680 (0%)]\tLoss: 4.230580\n",
      "Train Epoch: 6 [0/680 (0%)]\tLoss: 4.206263\n",
      "Train Epoch: 7 [0/680 (0%)]\tLoss: 4.196024\n",
      "Train Epoch: 8 [0/680 (0%)]\tLoss: 4.240953\n",
      "Train Epoch: 9 [0/680 (0%)]\tLoss: 4.223473\n",
      "Train Epoch: 10 [0/680 (0%)]\tLoss: 4.207364\n",
      "Train Epoch: 11 [0/680 (0%)]\tLoss: 4.203915\n",
      "Train Epoch: 12 [0/680 (0%)]\tLoss: 4.203181\n",
      "Train Epoch: 13 [0/680 (0%)]\tLoss: 4.159633\n",
      "Train Epoch: 14 [0/680 (0%)]\tLoss: 4.139135\n",
      "Train Epoch: 15 [0/680 (0%)]\tLoss: 4.141639\n",
      "Train Epoch: 16 [0/680 (0%)]\tLoss: 4.146188\n",
      "Train Epoch: 17 [0/680 (0%)]\tLoss: 4.191238\n",
      "Train Epoch: 18 [0/680 (0%)]\tLoss: 4.178351\n",
      "Train Epoch: 19 [0/680 (0%)]\tLoss: 4.186845\n",
      "Train Epoch: 20 [0/680 (0%)]\tLoss: 4.108643\n",
      "Train Epoch: 21 [0/680 (0%)]\tLoss: 4.124951\n",
      "Train Epoch: 22 [0/680 (0%)]\tLoss: 4.201419\n",
      "Train Epoch: 23 [0/680 (0%)]\tLoss: 4.112973\n",
      "Train Epoch: 24 [0/680 (0%)]\tLoss: 4.181881\n",
      "Train Epoch: 25 [0/680 (0%)]\tLoss: 4.104737\n",
      "Train Epoch: 26 [0/680 (0%)]\tLoss: 4.079173\n",
      "Train Epoch: 27 [0/680 (0%)]\tLoss: 4.082129\n",
      "Train Epoch: 28 [0/680 (0%)]\tLoss: 4.114563\n",
      "Train Epoch: 29 [0/680 (0%)]\tLoss: 4.105264\n",
      "Train Epoch: 30 [0/680 (0%)]\tLoss: 3.989585\n",
      "Train Epoch: 31 [0/680 (0%)]\tLoss: 4.018415\n",
      "Train Epoch: 32 [0/680 (0%)]\tLoss: 4.057710\n",
      "Train Epoch: 33 [0/680 (0%)]\tLoss: 4.017489\n",
      "Train Epoch: 34 [0/680 (0%)]\tLoss: 3.941578\n",
      "Train Epoch: 35 [0/680 (0%)]\tLoss: 3.980919\n",
      "Train Epoch: 36 [0/680 (0%)]\tLoss: 3.920448\n",
      "Train Epoch: 37 [0/680 (0%)]\tLoss: 3.874028\n",
      "Train Epoch: 38 [0/680 (0%)]\tLoss: 3.972234\n",
      "Train Epoch: 39 [0/680 (0%)]\tLoss: 3.771801\n"
     ]
    },
    {
     "data": {
      "text/plain": [
       "[<matplotlib.lines.Line2D at 0x20084c0bc88>]"
      ]
     },
     "execution_count": 462,
     "metadata": {},
     "output_type": "execute_result"
    },
    {
     "data": {
      "image/png": "[encoded data removed]",
      "text/plain": [
       "<Figure size 432x288 with 1 Axes>"
      ]
     },
     "metadata": {
      "needs_background": "light"
     },
     "output_type": "display_data"
    }
   ],
   "source": [
    "LEARNING_RATE=0.0001\n",
    "MOMENTUM=0.9\n",
    "LOG_INTERVAL=100\n",
    "EPOCHS=40\n",
    "BATCH_SIZE=128\n",
    "\n",
    "trainloader = torch.utils.data.DataLoader(trainset, batch_size=BATCH_SIZE, shuffle=True)\n",
    "testloader = torch.utils.data.DataLoader(testset, batch_size=1, shuffle=False)\n",
    "\n",
    "poses_net = Net()\n",
    "\n",
    "optimizer = optim.SGD(poses_net.parameters(), lr=LEARNING_RATE,\n",
    "                      momentum=MOMENTUM)\n",
    "train_losses = []\n",
    "train_counter = []\n",
    "\n",
    "def train(epoch):\n",
    "    poses_net.train()\n",
    "    for idx, (data, target) in enumerate(trainloader):\n",
    "        optimizer.zero_grad() \n",
    "        output = poses_net(data.float())\n",
    "        loss = F.cross_entropy(output, target.long())\n",
    "        loss.backward()\n",
    "        optimizer.step()\n",
    "        if idx % log_interval == 0:\n",
    "            print('Train Epoch: {} [{}/{} ({:.0f}%)]\\tLoss: {:.6f}'.format(epoch, idx * len(data), len(trainloader.dataset), 100. * idx / len(trainloader), loss.item()))\n",
    "            train_losses.append(loss.item())\n",
    "            train_counter.append((idx*BATCH_SIZE) + ((epoch-1)*len(trainloader.dataset)))\n",
    "\n",
    "for i in range(0,EPOCHS):\n",
    "    train(i)\n",
    "    \n",
    "plt.plot(train_losses)"
   ]
  },
  {
   "cell_type": "code",
   "execution_count": 463,
   "metadata": {},
   "outputs": [
    {
     "name": "stdout",
     "output_type": "stream",
     "text": [
      "\n",
      "Test set: Avg. loss: 3.9526, Accuracy: 24/204 (12%)\n",
      "\n"
     ]
    }
   ],
   "source": [
    "test_losses = []\n",
    "\n",
    "def test():\n",
    "    poses_net.eval()\n",
    "    test_loss = 0\n",
    "    correct = 0\n",
    "    with torch.no_grad():\n",
    "        for idx, (data, target) in enumerate(testloader):\n",
    "            output = poses_net(data.float())\n",
    "            test_loss += F.cross_entropy(output, target.long(), size_average=False).item()\n",
    "            pred = output.data.max(1, keepdim=True)[1]\n",
    "            correct += pred.eq(target.data.view_as(pred)).sum()\n",
    "    test_loss /= len(testloader.dataset)\n",
    "    test_losses.append(test_loss)\n",
    "    print('\\nTest set: Avg. loss: {:.4f}, Accuracy: {}/{} ({:.0f}%)\\n'.format(\n",
    "        test_loss, correct, len(testloader.dataset),\n",
    "        100. * correct / len(testloader.dataset)))   \n",
    "\n",
    "test()"
   ]
  }
 ],
 "metadata": {
  "kernelspec": {
   "display_name": "Python 3",
   "language": "python",
   "name": "python3"
  },
  "language_info": {
   "codemirror_mode": {
    "name": "ipython",
    "version": 3
   },
   "file_extension": ".py",
   "mimetype": "text/x-python",
   "name": "python",
   "nbconvert_exporter": "python",
   "pygments_lexer": "ipython3",
   "version": "3.7.7"
  }
 },
 "nbformat": 4,
 "nbformat_minor": 4
}
